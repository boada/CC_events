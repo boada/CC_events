{
 "cells": [
  {
   "cell_type": "code",
   "execution_count": null,
   "metadata": {},
   "outputs": [],
   "source": [
    "import pandas as pd\n",
    "import numpy as np\n",
    "import calendar"
   ]
  },
  {
   "cell_type": "code",
   "execution_count": null,
   "metadata": {},
   "outputs": [],
   "source": [
    "events = pd.read_csv('events2.csv')\n",
    "events['Date'] = events['Date'].apply(pd.to_datetime)"
   ]
  },
  {
   "cell_type": "code",
   "execution_count": null,
   "metadata": {},
   "outputs": [],
   "source": [
    "events.tail(20)"
   ]
  },
  {
   "cell_type": "markdown",
   "metadata": {},
   "source": [
    "# First we are going to create files sorted by UID"
   ]
  },
  {
   "cell_type": "code",
   "execution_count": null,
   "metadata": {},
   "outputs": [],
   "source": [
    "evts_nodgi = events.loc[events['DGI flag'] == False]"
   ]
  },
  {
   "cell_type": "code",
   "execution_count": null,
   "metadata": {},
   "outputs": [],
   "source": [
    "evts_nodgi.describe()"
   ]
  },
  {
   "cell_type": "code",
   "execution_count": null,
   "metadata": {},
   "outputs": [],
   "source": [
    "def write_md(outfile, df):\n",
    "    with open(outfile, 'wt') as f:\n",
    "        f.write('| Event ID | Event Name | Date | Players | Team Event |\\n')\n",
    "        f.write('| --- | --- | --- | --- | --- |\\n')\n",
    "        for i, row in df.iterrows():\n",
    "            f.write(f'| [{row[\"Event ID\"]}](https://conflictchamber.com/?event={row[\"Event ID\"]}) |')\n",
    "            # deal with missing event urls\n",
    "            if pd.isnull(row['Event URL']):\n",
    "                f.write(f'{row[\"Event Name\"]} |')\n",
    "            else:\n",
    "                f.write(f'[{row[\"Event Name\"]}]({row[\"Event URL\"]}) |')\n",
    "\n",
    "            # what date?\n",
    "            if pd.notnull(row.Date):\n",
    "                f.write(f\"{calendar.month_abbr[row.Date.month]} {row.Date.day}, {row.Date.year} |\")\n",
    "            else:\n",
    "                f.write('... |')\n",
    "            # deal with missing player number\n",
    "            if pd.isnull(row[\"Players\"]):\n",
    "                f.write('... |')\n",
    "            else:\n",
    "                f.write(f'{row[\"Players\"]} |')\n",
    "\n",
    "            # is this a team event?\n",
    "            if row[\"Team Event\"]:\n",
    "                f.write('Yes |\\n')\n",
    "            else:\n",
    "                f.write('No |\\n')\n",
    "\n",
    "# first we'll make sure things are sorted by UID\n",
    "\n",
    "evts_nodgi_uid = evts_nodgi.sort_values('Event ID', ascending=False, )\n",
    "evts_nodgi_date = evts_nodgi.sort_values('Date', ascending=False, na_position='last')\n",
    "write_md('evts_uid.md', evts_nodgi_uid)\n",
    "write_md('evts_date.md', evts_nodgi_date)\n",
    "\n",
    "                "
   ]
  },
  {
   "cell_type": "code",
   "execution_count": null,
   "metadata": {},
   "outputs": [],
   "source": [
    "evts_nodgi"
   ]
  },
  {
   "cell_type": "code",
   "execution_count": null,
   "metadata": {},
   "outputs": [],
   "source": []
  },
  {
   "cell_type": "code",
   "execution_count": null,
   "metadata": {},
   "outputs": [],
   "source": []
  }
 ],
 "metadata": {
  "kernelspec": {
   "display_name": "Python 3",
   "language": "python",
   "name": "python3"
  },
  "language_info": {
   "codemirror_mode": {
    "name": "ipython",
    "version": 3
   },
   "file_extension": ".py",
   "mimetype": "text/x-python",
   "name": "python",
   "nbconvert_exporter": "python",
   "pygments_lexer": "ipython3",
   "version": "3.7.1"
  },
  "toc": {
   "base_numbering": 1,
   "nav_menu": {},
   "number_sections": true,
   "sideBar": true,
   "skip_h1_title": false,
   "title_cell": "Table of Contents",
   "title_sidebar": "Contents",
   "toc_cell": false,
   "toc_position": {},
   "toc_section_display": true,
   "toc_window_display": false
  },
  "varInspector": {
   "cols": {
    "lenName": 16,
    "lenType": 16,
    "lenVar": 40
   },
   "kernels_config": {
    "python": {
     "delete_cmd_postfix": "",
     "delete_cmd_prefix": "del ",
     "library": "var_list.py",
     "varRefreshCmd": "print(var_dic_list())"
    },
    "r": {
     "delete_cmd_postfix": ") ",
     "delete_cmd_prefix": "rm(",
     "library": "var_list.r",
     "varRefreshCmd": "cat(var_dic_list()) "
    }
   },
   "types_to_exclude": [
    "module",
    "function",
    "builtin_function_or_method",
    "instance",
    "_Feature"
   ],
   "window_display": false
  }
 },
 "nbformat": 4,
 "nbformat_minor": 2
}
