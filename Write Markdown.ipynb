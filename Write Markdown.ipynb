{
 "cells": [
  {
   "cell_type": "code",
   "execution_count": null,
   "metadata": {},
   "outputs": [],
   "source": [
    "import pandas as pd\n",
    "import numpy as np\n",
    "import calendar"
   ]
  },
  {
   "cell_type": "code",
   "execution_count": null,
   "metadata": {},
   "outputs": [],
   "source": [
    "events = pd.read_csv('events.csv')\n",
    "events['Date'] = events['Date'].apply(pd.to_datetime)"
   ]
  },
  {
   "cell_type": "code",
   "execution_count": null,
   "metadata": {},
   "outputs": [],
   "source": [
    "events.tail(20)"
   ]
  },
  {
   "cell_type": "markdown",
   "metadata": {},
   "source": [
    "# First we are going to create files sorted by UID"
   ]
  },
  {
   "cell_type": "code",
   "execution_count": null,
   "metadata": {},
   "outputs": [],
   "source": [
    "evts_nodgi = events.loc[events['DGI flag'] == False]"
   ]
  },
  {
   "cell_type": "code",
   "execution_count": null,
   "metadata": {},
   "outputs": [],
   "source": [
    "evts_nodgi.describe()"
   ]
  },
  {
   "cell_type": "code",
   "execution_count": null,
   "metadata": {},
   "outputs": [],
   "source": [
    "def write_md(outfile, df):\n",
    "    with open(outfile, 'wt') as f:\n",
    "        f.write('| Event ID | Event Name | Date | Players | Team Event |\\n')\n",
    "        f.write('| --- | --- | --- | --- | --- |\\n')\n",
    "        for i, row in df.iterrows():\n",
    "            f.write(f'| [{row[\"Event ID\"]}](https://conflictchamber.com/?event={row[\"Event ID\"]}) |')\n",
    "            # deal with missing event urls\n",
    "            if pd.isnull(row['Event URL']):\n",
    "                f.write(f'{row[\"Event Name\"]} |')\n",
    "            else:\n",
    "                f.write(f'[{row[\"Event Name\"]}]({row[\"Event URL\"]}) |')\n",
    "\n",
    "            # what date?\n",
    "            if pd.notnull(row.Date):\n",
    "                f.write(f\"{calendar.month_abbr[row.Date.month]} {row.Date.day}, {row.Date.year} |\")\n",
    "            else:\n",
    "                f.write('... |')\n",
    "            # deal with missing player number\n",
    "            if pd.isnull(row[\"Players\"]):\n",
    "                f.write('... |')\n",
    "            else:\n",
    "                f.write(f'{row[\"Players\"]} |')\n",
    "\n",
    "            # is this a team event?\n",
    "            if row[\"Team Event\"]:\n",
    "                f.write('Yes |\\n')\n",
    "            else:\n",
    "                f.write('No |\\n')\n",
    "\n",
    "# first we'll make sure things are sorted by UID\n",
    "\n",
    "evts_nodgi_uid = evts_nodgi.sort_values('Event ID')\n",
    "evts_nodgi_date = evts_nodgi.sort_values('Date')\n",
    "write_md('evts_uid.md', evts_nodgi_uid)\n",
    "write_md('evts_date.md', evts_nodgi_date)\n",
    "\n",
    "                "
   ]
  },
  {
   "cell_type": "code",
   "execution_count": null,
   "metadata": {},
   "outputs": [],
   "source": []
  }
 ],
 "metadata": {
  "kernelspec": {
   "display_name": "Python 3",
   "language": "python",
   "name": "python3"
  },
  "language_info": {
   "codemirror_mode": {
    "name": "ipython",
    "version": 3
   },
   "file_extension": ".py",
   "mimetype": "text/x-python",
   "name": "python",
   "nbconvert_exporter": "python",
   "pygments_lexer": "ipython3",
   "version": "3.6.7"
  }
 },
 "nbformat": 4,
 "nbformat_minor": 2
}
